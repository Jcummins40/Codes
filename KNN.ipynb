{
  "nbformat": 4,
  "nbformat_minor": 0,
  "metadata": {
    "colab": {
      "provenance": []
    },
    "kernelspec": {
      "name": "python3",
      "display_name": "Python 3"
    },
    "language_info": {
      "name": "python"
    }
  },
  "cells": [
    {
      "cell_type": "code",
      "execution_count": 1,
      "metadata": {
        "colab": {
          "base_uri": "https://localhost:8080/"
        },
        "id": "Su1XxDqqu3Zf",
        "outputId": "263a1b0a-5c8a-4d6b-b3b1-ed1a9e861b53"
      },
      "outputs": [
        {
          "output_type": "stream",
          "name": "stdout",
          "text": [
            "[0]\n",
            "[[0.66666667 0.33333333]]\n",
            "[1]\n",
            "[[0.33333333 0.66666667]]\n"
          ]
        }
      ],
      "source": [
        "x = [[0], [1], [2], [3]]\n",
        "y = [0, 0, 1, 1]\n",
        "from sklearn.neighbors import KNeighborsClassifier\n",
        "neigh = KNeighborsClassifier(n_neighbors=3)\n",
        "neigh.fit(x,y)\n",
        "\n",
        "print(neigh.predict([[1.1]]))\n",
        "print(neigh.predict_proba([[1.1]]))\n",
        "print(neigh.predict([[1.9]]))\n",
        "print(neigh.predict_proba([[1.9]]))"
      ]
    }
  ]
}