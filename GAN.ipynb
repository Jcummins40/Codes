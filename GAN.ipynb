{
  "nbformat": 4,
  "nbformat_minor": 0,
  "metadata": {
    "colab": {
      "provenance": []
    },
    "kernelspec": {
      "name": "python3",
      "display_name": "Python 3"
    },
    "language_info": {
      "name": "python"
    },
    "accelerator": "GPU",
    "gpuClass": "standard"
  },
  "cells": [
    {
      "cell_type": "code",
      "execution_count": null,
      "metadata": {
        "id": "__2oAFX-xNBR"
      },
      "outputs": [],
      "source": [
        "import torch\n",
        "from torch import nn\n",
        "\n",
        "import math\n",
        "import matplotlib.pyplot as plt"
      ]
    },
    {
      "cell_type": "code",
      "source": [
        "train_data_length = 1024\n",
        "train_data = torch.zeros((train_data_length, 2))\n",
        "train_data[:, 0] = 2 * math.pi * torch.rand(train_data_length)\n",
        "train_data[:, 1] = torch.sin(train_data[:, 0])\n",
        "train_labels = torch.zeros(train_data_length)\n",
        "train_set = [\n",
        "    (train_data[i], train_labels[i]) for i in range(train_data_length)\n",
        "]"
      ],
      "metadata": {
        "id": "hfWfkQDOxgdC"
      },
      "execution_count": null,
      "outputs": []
    },
    {
      "cell_type": "code",
      "source": [
        "r =1\n",
        "train_data_length = 1024\n",
        "train_data = torch.zeros((train_data_length, 2))\n",
        "train_labels = torch.zeros(train_data_length)\n",
        "angles = 2*math.pi*torch.rand(train_data_length)\n",
        "\n",
        "train_data[:, 0] = r*torch.sin(angles)\n",
        "train_data[:, 1] = r*torch.cos(angles)\n",
        "\n",
        "train_set = [\n",
        "    (train_data[i], train_labels[i]) for i in range(train_data_length)\n",
        "]\n"
      ],
      "metadata": {
        "id": "TcHiivd2z_VL"
      },
      "execution_count": null,
      "outputs": []
    },
    {
      "cell_type": "code",
      "source": [
        "plt.plot(train_data[:, 0], train_data[:, 1], \".\")"
      ],
      "metadata": {
        "colab": {
          "base_uri": "https://localhost:8080/",
          "height": 447
        },
        "id": "ZCyRulUwxg1e",
        "outputId": "053d7476-ca70-4174-d62d-01fc66c136cf"
      },
      "execution_count": null,
      "outputs": [
        {
          "output_type": "execute_result",
          "data": {
            "text/plain": [
              "[<matplotlib.lines.Line2D at 0x7f547a7b4370>]"
            ]
          },
          "metadata": {},
          "execution_count": 21
        },
        {
          "output_type": "display_data",
          "data": {
            "text/plain": [
              "<Figure size 640x480 with 1 Axes>"
            ],
            "image/png": "[encoded data removed]"
          },
          "metadata": {}
        }
      ]
    },
    {
      "cell_type": "code",
      "source": [
        "batch_size = 32\n",
        "train_loader = torch.utils.data.DataLoader(\n",
        "    train_set, batch_size=batch_size, shuffle=True\n",
        ")"
      ],
      "metadata": {
        "id": "kJQn9fQoxrVB"
      },
      "execution_count": null,
      "outputs": []
    },
    {
      "cell_type": "code",
      "source": [
        "class Discriminator(nn.Module):\n",
        "    def __init__(self):\n",
        "        super().__init__()\n",
        "        self.model = nn.Sequential(\n",
        "            nn.Linear(2, 256),\n",
        "            nn.ReLU(),\n",
        "            nn.Dropout(0.3),\n",
        "            nn.Linear(256, 128),\n",
        "            nn.ReLU(),\n",
        "            nn.Dropout(0.3),\n",
        "            nn.Linear(128, 64),\n",
        "            nn.ReLU(),\n",
        "            nn.Dropout(0.3),\n",
        "            nn.Linear(64, 1),\n",
        "            nn.Sigmoid(),\n",
        "        )\n",
        "\n",
        "    def forward(self, x):\n",
        "        output = self.model(x)\n",
        "        return output"
      ],
      "metadata": {
        "id": "HLOqwFHlxroG"
      },
      "execution_count": null,
      "outputs": []
    },
    {
      "cell_type": "code",
      "source": [
        "discriminator = Discriminator()"
      ],
      "metadata": {
        "id": "ZoAmDkhcxhMx"
      },
      "execution_count": null,
      "outputs": []
    },
    {
      "cell_type": "code",
      "source": [
        "class Generator(nn.Module):\n",
        "    def __init__(self):\n",
        "        super().__init__()\n",
        "        self.model = nn.Sequential(\n",
        "            nn.Linear(2, 16),\n",
        "            nn.ReLU(),\n",
        "            nn.Linear(16, 32),\n",
        "            nn.ReLU(),\n",
        "            nn.Linear(32, 2),\n",
        "        )\n",
        "\n",
        "    def forward(self, x):\n",
        "        output = self.model(x)\n",
        "        return output\n",
        "\n",
        "generator = Generator()"
      ],
      "metadata": {
        "id": "TU3_Q77Ax2nb"
      },
      "execution_count": null,
      "outputs": []
    },
    {
      "cell_type": "code",
      "source": [
        "lr = 0.001\n",
        "num_epochs = 300\n",
        "loss_function = nn.BCELoss()"
      ],
      "metadata": {
        "id": "8RW51so6x22_"
      },
      "execution_count": null,
      "outputs": []
    },
    {
      "cell_type": "code",
      "source": [
        "optimizer_discriminator = torch.optim.Adam(discriminator.parameters(), lr=lr)\n",
        "optimizer_generator = torch.optim.Adam(generator.parameters(), lr=lr)"
      ],
      "metadata": {
        "id": "qmiivUaRx3Fp"
      },
      "execution_count": null,
      "outputs": []
    },
    {
      "cell_type": "code",
      "source": [
        "for epoch in range(num_epochs):\n",
        "    for n, (real_samples, _) in enumerate(train_loader):\n",
        "        # Data for training the discriminator\n",
        "        real_samples_labels = torch.ones((batch_size, 1))\n",
        "        latent_space_samples = torch.randn((batch_size, 2))\n",
        "        generated_samples = generator(latent_space_samples)\n",
        "        generated_samples_labels = torch.zeros((batch_size, 1))\n",
        "        all_samples = torch.cat((real_samples, generated_samples))\n",
        "        all_samples_labels = torch.cat(\n",
        "            (real_samples_labels, generated_samples_labels)\n",
        "        )\n",
        "\n",
        "        # Training the discriminator\n",
        "        discriminator.zero_grad()\n",
        "        output_discriminator = discriminator(all_samples)\n",
        "        loss_discriminator = loss_function(\n",
        "            output_discriminator, all_samples_labels)\n",
        "        loss_discriminator.backward()\n",
        "        optimizer_discriminator.step()\n",
        "\n",
        "        # Data for training the generator\n",
        "        latent_space_samples = torch.randn((batch_size, 2))\n",
        "\n",
        "        # Training the generator\n",
        "        generator.zero_grad()\n",
        "        generated_samples = generator(latent_space_samples)\n",
        "        output_discriminator_generated = discriminator(generated_samples)\n",
        "        loss_generator = loss_function(\n",
        "            output_discriminator_generated, real_samples_labels\n",
        "        )\n",
        "        loss_generator.backward()\n",
        "        optimizer_generator.step()\n",
        "\n",
        "        # Show loss\n",
        "        if epoch % 10 == 0 and n == batch_size - 1:\n",
        "            print(f\"Epoch: {epoch} Loss D.: {loss_discriminator}\")\n",
        "            print(f\"Epoch: {epoch} Loss G.: {loss_generator}\")"
      ],
      "metadata": {
        "colab": {
          "base_uri": "https://localhost:8080/"
        },
        "id": "3poP3ptHx_Yz",
        "outputId": "d14c9cf1-94ba-45df-ce8d-11d795add31a"
      },
      "execution_count": null,
      "outputs": [
        {
          "output_type": "stream",
          "name": "stdout",
          "text": [
            "Epoch: 0 Loss D.: 0.28009501099586487\n",
            "Epoch: 0 Loss G.: 2.3565595149993896\n",
            "Epoch: 10 Loss D.: 0.6534863114356995\n",
            "Epoch: 10 Loss G.: 0.9656020402908325\n",
            "Epoch: 20 Loss D.: 0.7190227508544922\n",
            "Epoch: 20 Loss G.: 0.7524201273918152\n",
            "Epoch: 30 Loss D.: 0.6766265630722046\n",
            "Epoch: 30 Loss G.: 0.8247880935668945\n",
            "Epoch: 40 Loss D.: 0.682975172996521\n",
            "Epoch: 40 Loss G.: 0.7348893284797668\n",
            "Epoch: 50 Loss D.: 0.6595847010612488\n",
            "Epoch: 50 Loss G.: 0.7059102654457092\n",
            "Epoch: 60 Loss D.: 0.6416887640953064\n",
            "Epoch: 60 Loss G.: 0.7690999507904053\n",
            "Epoch: 70 Loss D.: 0.6723917722702026\n",
            "Epoch: 70 Loss G.: 0.6473226547241211\n",
            "Epoch: 80 Loss D.: 0.6826397180557251\n",
            "Epoch: 80 Loss G.: 0.7088078260421753\n",
            "Epoch: 90 Loss D.: 0.7184824347496033\n",
            "Epoch: 90 Loss G.: 0.6441811323165894\n",
            "Epoch: 100 Loss D.: 0.677878737449646\n",
            "Epoch: 100 Loss G.: 0.7527832388877869\n",
            "Epoch: 110 Loss D.: 0.7307223677635193\n",
            "Epoch: 110 Loss G.: 0.6516954898834229\n",
            "Epoch: 120 Loss D.: 0.704334557056427\n",
            "Epoch: 120 Loss G.: 0.6306455135345459\n",
            "Epoch: 130 Loss D.: 0.6813195943832397\n",
            "Epoch: 130 Loss G.: 0.7273620367050171\n",
            "Epoch: 140 Loss D.: 0.6868531107902527\n",
            "Epoch: 140 Loss G.: 0.7127463221549988\n",
            "Epoch: 150 Loss D.: 0.6983394026756287\n",
            "Epoch: 150 Loss G.: 0.7125762701034546\n",
            "Epoch: 160 Loss D.: 0.69437575340271\n",
            "Epoch: 160 Loss G.: 0.6902366280555725\n",
            "Epoch: 170 Loss D.: 0.685522198677063\n",
            "Epoch: 170 Loss G.: 0.7080038189888\n",
            "Epoch: 180 Loss D.: 0.6648229360580444\n",
            "Epoch: 180 Loss G.: 0.6912446022033691\n",
            "Epoch: 190 Loss D.: 0.717690110206604\n",
            "Epoch: 190 Loss G.: 0.6667388677597046\n",
            "Epoch: 200 Loss D.: 0.6745238304138184\n",
            "Epoch: 200 Loss G.: 0.7497835755348206\n",
            "Epoch: 210 Loss D.: 0.7046245336532593\n",
            "Epoch: 210 Loss G.: 0.7120906114578247\n",
            "Epoch: 220 Loss D.: 0.68776935338974\n",
            "Epoch: 220 Loss G.: 0.701278567314148\n",
            "Epoch: 230 Loss D.: 0.7005942463874817\n",
            "Epoch: 230 Loss G.: 0.7331014275550842\n",
            "Epoch: 240 Loss D.: 0.6680518388748169\n",
            "Epoch: 240 Loss G.: 0.7486618757247925\n",
            "Epoch: 250 Loss D.: 0.7194277048110962\n",
            "Epoch: 250 Loss G.: 0.7750985622406006\n",
            "Epoch: 260 Loss D.: 0.6937853693962097\n",
            "Epoch: 260 Loss G.: 0.7241401672363281\n",
            "Epoch: 270 Loss D.: 0.6828417778015137\n",
            "Epoch: 270 Loss G.: 0.7296117544174194\n",
            "Epoch: 280 Loss D.: 0.6922460794448853\n",
            "Epoch: 280 Loss G.: 0.7149180769920349\n",
            "Epoch: 290 Loss D.: 0.6700725555419922\n",
            "Epoch: 290 Loss G.: 0.7062876224517822\n"
          ]
        }
      ]
    },
    {
      "cell_type": "code",
      "source": [
        "latent_space_samples = torch.randn(100, 2)\n",
        "generated_samples = generator(latent_space_samples)\n",
        "generated_samples = generated_samples.detach()\n",
        "plt.plot(generated_samples[:, 0], generated_samples[:, 1], \".\")"
      ],
      "metadata": {
        "colab": {
          "base_uri": "https://localhost:8080/",
          "height": 447
        },
        "id": "5Aff-Ot_x_ng",
        "outputId": "e13c46e1-d236-476b-e674-cd715a11e2c4"
      },
      "execution_count": null,
      "outputs": [
        {
          "output_type": "execute_result",
          "data": {
            "text/plain": [
              "[<matplotlib.lines.Line2D at 0x7f5473fa9390>]"
            ]
          },
          "metadata": {},
          "execution_count": 30
        },
        {
          "output_type": "display_data",
          "data": {
            "text/plain": [
              "<Figure size 640x480 with 1 Axes>"
            ],
            "image/png": "[encoded data removed]"
          },
          "metadata": {}
        }
      ]
    },
    {
      "cell_type": "code",
      "source": [],
      "metadata": {
        "id": "1PJfeTVWx_6O"
      },
      "execution_count": null,
      "outputs": []
    }
  ]
}